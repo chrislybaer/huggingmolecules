{
 "cells": [
  {
   "cell_type": "code",
   "execution_count": 1,
   "id": "32c9e6cf",
   "metadata": {},
   "outputs": [],
   "source": [
    "%load_ext autoreload\n",
    "%autoreload 2"
   ]
  },
  {
   "cell_type": "code",
   "execution_count": 3,
   "id": "3ed8967f",
   "metadata": {},
   "outputs": [],
   "source": [
    "import os\n",
    "import sys\n",
    "\n",
    "from huggingmolecules import MatModel, MatFeaturizer\n",
    "\n",
    "sys.path.insert(0, os.path.abspath('..'))\n",
    "\n",
    "# The following import works only from the source code directory:\n",
    "from experiments.src import TrainingModule, get_data_loaders\n",
    "\n",
    "from torch.nn import BCEWithLogitsLoss\n",
    "from torch.optim import Adam\n",
    "\n",
    "from pytorch_lightning import Trainer\n",
    "from pytorch_lightning.metrics import Metric\n",
    "from pytorch_lightning.metrics.functional.classification import auroc\n",
    "import torch.nn as nn\n",
    "\n",
    "import numpy as np \n",
    "from sklearn.metrics import roc_auc_score, average_precision_score\n",
    "import wandb\n",
    "from pytorch_lightning.loggers import WandbLogger  # newline 1\n",
    "from pytorch_lightning.callbacks import ModelCheckpoint\n",
    "import torch\n",
    "from typing import Optional, Sequence, Any"
   ]
  },
  {
   "cell_type": "code",
   "execution_count": 4,
   "id": "f8cf1c92",
   "metadata": {},
   "outputs": [],
   "source": [
    "from experiments.src.wrappers.wrappers_chemberta import ChembertaFeaturizer, ChembertaConfig, ChembertaModelWrapper"
   ]
  },
  {
   "cell_type": "code",
   "execution_count": 8,
   "id": "82e12661",
   "metadata": {},
   "outputs": [],
   "source": [
    "import glob\n",
    "import pandas as pd\n",
    "datasets = ['bbbp', 'clintox', 'tox21', 'hiv']\n",
    "data_dir_pattern = \"../../../2021/graph-transformer-feature-dataloader/datasets/mymoleculenet/%s/\"\n",
    "class AUROC(Metric):\n",
    "    def __init__(\n",
    "            self,\n",
    "            sample_weight: Optional[Sequence] = None,\n",
    "            compute_on_step: bool = False,  # True likely crashes if not every batch contains all classes\n",
    "            dist_sync_on_step: bool = False,\n",
    "            process_group: Optional[Any] = None,\n",
    "    ):\n",
    "        super().__init__(\n",
    "            compute_on_step=compute_on_step,\n",
    "            dist_sync_on_step=dist_sync_on_step,\n",
    "            process_group=process_group,\n",
    "        )\n",
    "\n",
    "        self.sample_weight = sample_weight\n",
    "        self.add_state(\"all_preds\", default=[])\n",
    "        self.add_state(\"all_target\", default=[])\n",
    "\n",
    "    def update(self, preds: torch.Tensor, target: torch.Tensor) -> None:\n",
    "        self.all_preds.append(preds)\n",
    "        self.all_target.append(target)\n",
    "\n",
    "    def compute(self):\n",
    "        preds_tensor = torch.cat(self.all_preds).squeeze()\n",
    "        target_tensor = torch.cat(self.all_target).squeeze()\n",
    "        return auroc(preds_tensor, target_tensor, sample_weight=self.sample_weight)\n"
   ]
  },
  {
   "cell_type": "code",
   "execution_count": null,
   "id": "6a9e2be0",
   "metadata": {},
   "outputs": [
    {
     "name": "stderr",
     "output_type": "stream",
     "text": [
      "Some weights of the model checkpoint at seyonec/PubChem10M_SMILES_BPE_60k were not used when initializing RobertaForSequenceClassification: ['lm_head.decoder.weight', 'lm_head.bias', 'lm_head.decoder.bias', 'lm_head.layer_norm.bias', 'lm_head.dense.weight', 'lm_head.dense.bias', 'roberta.pooler.dense.bias', 'roberta.pooler.dense.weight', 'lm_head.layer_norm.weight']\n",
      "- This IS expected if you are initializing RobertaForSequenceClassification from the checkpoint of a model trained on another task or with another architecture (e.g. initializing a BertForSequenceClassification model from a BertForPreTraining model).\n",
      "- This IS NOT expected if you are initializing RobertaForSequenceClassification from the checkpoint of a model that you expect to be exactly identical (initializing a BertForSequenceClassification model from a BertForSequenceClassification model).\n",
      "Some weights of RobertaForSequenceClassification were not initialized from the model checkpoint at seyonec/PubChem10M_SMILES_BPE_60k and are newly initialized: ['classifier.dense.weight', 'classifier.out_proj.weight', 'classifier.out_proj.bias', 'classifier.dense.bias']\n",
      "You should probably TRAIN this model on a down-stream task to be able to use it for predictions and inference.\n",
      "GPU available: True, used: True\n",
      "TPU available: False, using: 0 TPU cores\n",
      "LOCAL_RANK: 0 - CUDA_VISIBLE_DEVICES: [0]\n",
      "Failed to detect the name of this notebook, you can set it manually with the WANDB_NOTEBOOK_NAME environment variable to enable code saving.\n",
      "\u001b[34m\u001b[1mwandb\u001b[0m: Currently logged in as: \u001b[33mchrisxx\u001b[0m (use `wandb login --relogin` to force relogin)\n"
     ]
    },
    {
     "data": {
      "text/html": [
       "\n",
       "                    Syncing run <strong><a href=\"https://wandb.ai/dfstransformer/moleculenet10-baselines/runs/1o0x3j6a\" target=\"_blank\">chemberta</a></strong> to <a href=\"https://wandb.ai/dfstransformer/moleculenet10-baselines\" target=\"_blank\">Weights & Biases</a> (<a href=\"https://docs.wandb.com/integrations/jupyter.html\" target=\"_blank\">docs</a>).<br/>\n",
       "\n",
       "                "
      ],
      "text/plain": [
       "<IPython.core.display.HTML object>"
      ]
     },
     "metadata": {},
     "output_type": "display_data"
    },
    {
     "name": "stderr",
     "output_type": "stream",
     "text": [
      "\n",
      "  | Name    | Type                  | Params\n",
      "--------------------------------------------------\n",
      "0 | model   | ChembertaModelWrapper | 83 M  \n",
      "1 | loss_fn | BCEWithLogitsLoss     | 0     \n"
     ]
    },
    {
     "data": {
      "application/vnd.jupyter.widget-view+json": {
       "model_id": "",
       "version_major": 2,
       "version_minor": 0
      },
      "text/plain": [
       "Validation sanity check: 0it [00:00, ?it/s]"
      ]
     },
     "metadata": {},
     "output_type": "display_data"
    },
    {
     "data": {
      "application/vnd.jupyter.widget-view+json": {
       "model_id": "843b46a91ab543ef8ad7b7afc6ca3b44",
       "version_major": 2,
       "version_minor": 0
      },
      "text/plain": [
       "Training: 0it [00:00, ?it/s]"
      ]
     },
     "metadata": {},
     "output_type": "display_data"
    },
    {
     "data": {
      "application/vnd.jupyter.widget-view+json": {
       "model_id": "",
       "version_major": 2,
       "version_minor": 0
      },
      "text/plain": [
       "Validating: 0it [00:00, ?it/s]"
      ]
     },
     "metadata": {},
     "output_type": "display_data"
    },
    {
     "data": {
      "application/vnd.jupyter.widget-view+json": {
       "model_id": "",
       "version_major": 2,
       "version_minor": 0
      },
      "text/plain": [
       "Validating: 0it [00:00, ?it/s]"
      ]
     },
     "metadata": {},
     "output_type": "display_data"
    },
    {
     "data": {
      "application/vnd.jupyter.widget-view+json": {
       "model_id": "",
       "version_major": 2,
       "version_minor": 0
      },
      "text/plain": [
       "Validating: 0it [00:00, ?it/s]"
      ]
     },
     "metadata": {},
     "output_type": "display_data"
    },
    {
     "data": {
      "application/vnd.jupyter.widget-view+json": {
       "model_id": "",
       "version_major": 2,
       "version_minor": 0
      },
      "text/plain": [
       "Validating: 0it [00:00, ?it/s]"
      ]
     },
     "metadata": {},
     "output_type": "display_data"
    },
    {
     "data": {
      "application/vnd.jupyter.widget-view+json": {
       "model_id": "",
       "version_major": 2,
       "version_minor": 0
      },
      "text/plain": [
       "Validating: 0it [00:00, ?it/s]"
      ]
     },
     "metadata": {},
     "output_type": "display_data"
    },
    {
     "data": {
      "application/vnd.jupyter.widget-view+json": {
       "model_id": "",
       "version_major": 2,
       "version_minor": 0
      },
      "text/plain": [
       "Validating: 0it [00:00, ?it/s]"
      ]
     },
     "metadata": {},
     "output_type": "display_data"
    },
    {
     "data": {
      "application/vnd.jupyter.widget-view+json": {
       "model_id": "551628c720384bfead0a680ef86df4bc",
       "version_major": 2,
       "version_minor": 0
      },
      "text/plain": [
       "Validating: 0it [00:00, ?it/s]"
      ]
     },
     "metadata": {},
     "output_type": "display_data"
    }
   ],
   "source": [
    "for dataset in datasets:\n",
    "    n_splits = len(glob.glob1(data_dir_pattern%dataset, \"[0-9]*\"))\n",
    "    wandb_logger = WandbLogger(name='chemberta', mode='online', entity='dfstransformer', project='moleculenet10-baselines',\n",
    "                               config={'dataset':dataset}, settings=wandb.Settings(start_method='fork'))\n",
    "    rocs = []\n",
    "    prcs = []\n",
    "    for rep in range(n_splits):\n",
    "        # Build and load the pre-trained model and the appropriate featurizer:\n",
    "        config = ChembertaConfig.from_pretrained('seyonec/PubChem10M_SMILES_BPE_60k')\n",
    "        model = ChembertaModelWrapper.from_pretrained('seyonec/PubChem10M_SMILES_BPE_60k')\n",
    "        featurizer = ChembertaFeaturizer(config)\n",
    "        #featurizer = ChembertaFeaturizer.from_pretrained('seyonec/PubChem10M_SMILES_BPE_60k')\n",
    "\n",
    "        # Build the pytorch lightning training module:\n",
    "        pl_module = TrainingModule(model,\n",
    "                                   loss_fn=BCEWithLogitsLoss(),\n",
    "                                   metric_cls=AUROC,\n",
    "                                   optimizer=Adam(model.parameters(), lr=3e-6))\n",
    "        pl_module.cuda()\n",
    "        \n",
    "\n",
    "        trainset = pd.read_csv(data_dir_pattern%dataset+\"%d/train.csv\"%rep)\n",
    "        validset = pd.read_csv(data_dir_pattern%dataset+\"%d/valid.csv\"%rep)\n",
    "        testset = pd.read_csv(data_dir_pattern%dataset+\"%d/test.csv\"%rep)\n",
    "        train_X, train_y = trainset[\"smiles\"].to_numpy(), trainset[\"target\"].to_numpy()\n",
    "        valid_X, valid_y = validset[\"smiles\"].to_numpy(), validset[\"target\"].to_numpy()\n",
    "        test_X, test_y = testset[\"smiles\"].to_numpy(), testset[\"target\"].to_numpy()\n",
    "        \n",
    "        train_data = featurizer.encode_smiles_list(train_X, train_y)\n",
    "        valid_data = featurizer.encode_smiles_list(valid_X, valid_y)\n",
    "        test_data = featurizer.encode_smiles_list(test_X, test_y)\n",
    "        train_loader = featurizer.get_data_loader(train_data, batch_size=32, shuffle=True, num_workers=12)\n",
    "        valid_loader = featurizer.get_data_loader(valid_data, batch_size=32, shuffle=False, num_workers=12)\n",
    "        test_loader = featurizer.get_data_loader(test_data, batch_size=32, shuffle=False, num_workers=12)\n",
    "\n",
    "\n",
    "        # Build the pytorch lightning trainer and fine-tune the module on the train dataset:\n",
    "        checkpoint_callback = ModelCheckpoint(monitor=\"valid_auroc\", mode=\"max\")\n",
    "        \n",
    "        trainer = Trainer(max_epochs=25, gpus=[0], logger=wandb_logger, callbacks=[checkpoint_callback])\n",
    "        #trainer.tune(pl_module,  train_dataloader=train_loader)\n",
    "        trainer.fit(pl_module, train_dataloader=train_loader, val_dataloaders=[valid_loader])\n",
    "\n",
    "        #m = pl_module.eval().cpu()\n",
    "        m = ChembertaModelWrapper.from_pretrained('seyonec/PubChem10M_SMILES_BPE_60k')\n",
    "        #m.load_state_dict(torch.load(checkpoint_callback.best_model_path)['state_dict'])\n",
    "        m.load_state_dict({key[6:]:value for key, value in torch.load(checkpoint_callback.best_model_path)['state_dict'].items()}, strict=False)\n",
    "        m = m.eval().cpu()\n",
    "        preds = []\n",
    "        for d in test_loader:\n",
    "            preds += [m(d).detach().numpy()]\n",
    "        preds = np.concatenate(preds, axis=0)[:, 0]\n",
    "        rocs += [roc_auc_score(test_y, preds)]\n",
    "        prcs += [average_precision_score(test_y, preds)]\n",
    "        wandb.log({'roc_test':rocs[-1], 'prc_test':prcs[-1]})\n",
    "    wandb.log({'mean_roc_test':np.mean(rocs), 'std_roc_test':np.std(rocs),\n",
    "             'mean_prc_test':np.mean(prcs), 'std_prc_test':np.std(rocs)})"
   ]
  },
  {
   "cell_type": "code",
   "execution_count": null,
   "id": "b85223ea",
   "metadata": {},
   "outputs": [],
   "source": []
  }
 ],
 "metadata": {
  "kernelspec": {
   "display_name": "Python 3 (ipykernel)",
   "language": "python",
   "name": "python3"
  },
  "language_info": {
   "codemirror_mode": {
    "name": "ipython",
    "version": 3
   },
   "file_extension": ".py",
   "mimetype": "text/x-python",
   "name": "python",
   "nbconvert_exporter": "python",
   "pygments_lexer": "ipython3",
   "version": "3.8.5"
  }
 },
 "nbformat": 4,
 "nbformat_minor": 5
}
